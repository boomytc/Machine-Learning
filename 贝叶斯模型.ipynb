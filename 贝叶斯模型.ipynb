{
 "cells": [
  {
   "cell_type": "code",
   "execution_count": 2,
   "metadata": {},
   "outputs": [],
   "source": [
    "#导入相关模块\n",
    "import pandas as pd"
   ]
  },
  {
   "cell_type": "code",
   "execution_count": 3,
   "metadata": {},
   "outputs": [],
   "source": [
    "#导入相关数据\n",
    "documents=[['菜品','很','一般','不','建议','在这','消费'],\n",
    "           ['老板','很','闹心','坑人','建议','去','别家'],\n",
    "           ['让人','惊艳','东西','口味','让人','觉得','不错'],\n",
    "           ['环境','不错','孜然牛柳','很','好吃'],\n",
    "           ['味道','真的','一般','环境','也','比较','拥挤'],\n",
    "           ['一家','性价比','很','高','餐厅','推荐']]"
   ]
  },
  {
   "cell_type": "code",
   "execution_count": 4,
   "metadata": {},
   "outputs": [],
   "source": [
    "#导入标签数据\n",
    "#消极数据的标签是1，积极数据的标签是0\n",
    "classVec=[1,1,0,0,1,0]"
   ]
  },
  {
   "cell_type": "code",
   "execution_count": 5,
   "metadata": {},
   "outputs": [],
   "source": [
    "#创建词数计数方法\n",
    "def creat_wordsAll(documents):\n",
    "    words_all = set([])\n",
    "    for document in documents:\n",
    "        words_all = words_all | set(document)\n",
    "    words_all =list(words_all)\n",
    "    return words_all"
   ]
  },
  {
   "cell_type": "code",
   "execution_count": 6,
   "metadata": {},
   "outputs": [],
   "source": [
    "#计算出现的词语\n",
    "words_all = creat_wordsAll(documents)"
   ]
  },
  {
   "cell_type": "code",
   "execution_count": 7,
   "metadata": {},
   "outputs": [],
   "source": [
    "#创建词向量方法\n",
    "def creat_wordVec(document,words_all):\n",
    "    dic={}\n",
    "    for word in words_all:\n",
    "        if word in document:\n",
    "            dic[word]=1\n",
    "        else:\n",
    "            dic[word]=0\n",
    "    return dic"
   ]
  },
  {
   "cell_type": "code",
   "execution_count": 8,
   "metadata": {},
   "outputs": [],
   "source": [
    "#初始化训练矩阵\n",
    "trainMatrix=[]"
   ]
  },
  {
   "cell_type": "code",
   "execution_count": 9,
   "metadata": {},
   "outputs": [],
   "source": [
    "for document in documents:\n",
    "    trainMatrix.append(creat_wordVec(document,words_all))"
   ]
  },
  {
   "cell_type": "code",
   "execution_count": 10,
   "metadata": {},
   "outputs": [
    {
     "data": {
      "text/html": [
       "<div>\n",
       "<style scoped>\n",
       "    .dataframe tbody tr th:only-of-type {\n",
       "        vertical-align: middle;\n",
       "    }\n",
       "\n",
       "    .dataframe tbody tr th {\n",
       "        vertical-align: top;\n",
       "    }\n",
       "\n",
       "    .dataframe thead th {\n",
       "        text-align: right;\n",
       "    }\n",
       "</style>\n",
       "<table border=\"1\" class=\"dataframe\">\n",
       "  <thead>\n",
       "    <tr style=\"text-align: right;\">\n",
       "      <th></th>\n",
       "      <th>餐厅</th>\n",
       "      <th>高</th>\n",
       "      <th>一家</th>\n",
       "      <th>消费</th>\n",
       "      <th>菜品</th>\n",
       "      <th>也</th>\n",
       "      <th>比较</th>\n",
       "      <th>孜然牛柳</th>\n",
       "      <th>推荐</th>\n",
       "      <th>东西</th>\n",
       "      <th>...</th>\n",
       "      <th>环境</th>\n",
       "      <th>在这</th>\n",
       "      <th>让人</th>\n",
       "      <th>不</th>\n",
       "      <th>很</th>\n",
       "      <th>不错</th>\n",
       "      <th>老板</th>\n",
       "      <th>觉得</th>\n",
       "      <th>坑人</th>\n",
       "      <th>去</th>\n",
       "    </tr>\n",
       "  </thead>\n",
       "  <tbody>\n",
       "    <tr>\n",
       "      <th>0</th>\n",
       "      <td>0</td>\n",
       "      <td>0</td>\n",
       "      <td>0</td>\n",
       "      <td>1</td>\n",
       "      <td>1</td>\n",
       "      <td>0</td>\n",
       "      <td>0</td>\n",
       "      <td>0</td>\n",
       "      <td>0</td>\n",
       "      <td>0</td>\n",
       "      <td>...</td>\n",
       "      <td>0</td>\n",
       "      <td>1</td>\n",
       "      <td>0</td>\n",
       "      <td>1</td>\n",
       "      <td>1</td>\n",
       "      <td>0</td>\n",
       "      <td>0</td>\n",
       "      <td>0</td>\n",
       "      <td>0</td>\n",
       "      <td>0</td>\n",
       "    </tr>\n",
       "    <tr>\n",
       "      <th>1</th>\n",
       "      <td>0</td>\n",
       "      <td>0</td>\n",
       "      <td>0</td>\n",
       "      <td>0</td>\n",
       "      <td>0</td>\n",
       "      <td>0</td>\n",
       "      <td>0</td>\n",
       "      <td>0</td>\n",
       "      <td>0</td>\n",
       "      <td>0</td>\n",
       "      <td>...</td>\n",
       "      <td>0</td>\n",
       "      <td>0</td>\n",
       "      <td>0</td>\n",
       "      <td>0</td>\n",
       "      <td>1</td>\n",
       "      <td>0</td>\n",
       "      <td>1</td>\n",
       "      <td>0</td>\n",
       "      <td>1</td>\n",
       "      <td>1</td>\n",
       "    </tr>\n",
       "    <tr>\n",
       "      <th>2</th>\n",
       "      <td>0</td>\n",
       "      <td>0</td>\n",
       "      <td>0</td>\n",
       "      <td>0</td>\n",
       "      <td>0</td>\n",
       "      <td>0</td>\n",
       "      <td>0</td>\n",
       "      <td>0</td>\n",
       "      <td>0</td>\n",
       "      <td>1</td>\n",
       "      <td>...</td>\n",
       "      <td>0</td>\n",
       "      <td>0</td>\n",
       "      <td>1</td>\n",
       "      <td>0</td>\n",
       "      <td>0</td>\n",
       "      <td>1</td>\n",
       "      <td>0</td>\n",
       "      <td>1</td>\n",
       "      <td>0</td>\n",
       "      <td>0</td>\n",
       "    </tr>\n",
       "    <tr>\n",
       "      <th>3</th>\n",
       "      <td>0</td>\n",
       "      <td>0</td>\n",
       "      <td>0</td>\n",
       "      <td>0</td>\n",
       "      <td>0</td>\n",
       "      <td>0</td>\n",
       "      <td>0</td>\n",
       "      <td>1</td>\n",
       "      <td>0</td>\n",
       "      <td>0</td>\n",
       "      <td>...</td>\n",
       "      <td>1</td>\n",
       "      <td>0</td>\n",
       "      <td>0</td>\n",
       "      <td>0</td>\n",
       "      <td>1</td>\n",
       "      <td>1</td>\n",
       "      <td>0</td>\n",
       "      <td>0</td>\n",
       "      <td>0</td>\n",
       "      <td>0</td>\n",
       "    </tr>\n",
       "    <tr>\n",
       "      <th>4</th>\n",
       "      <td>0</td>\n",
       "      <td>0</td>\n",
       "      <td>0</td>\n",
       "      <td>0</td>\n",
       "      <td>0</td>\n",
       "      <td>1</td>\n",
       "      <td>1</td>\n",
       "      <td>0</td>\n",
       "      <td>0</td>\n",
       "      <td>0</td>\n",
       "      <td>...</td>\n",
       "      <td>1</td>\n",
       "      <td>0</td>\n",
       "      <td>0</td>\n",
       "      <td>0</td>\n",
       "      <td>0</td>\n",
       "      <td>0</td>\n",
       "      <td>0</td>\n",
       "      <td>0</td>\n",
       "      <td>0</td>\n",
       "      <td>0</td>\n",
       "    </tr>\n",
       "    <tr>\n",
       "      <th>5</th>\n",
       "      <td>1</td>\n",
       "      <td>1</td>\n",
       "      <td>1</td>\n",
       "      <td>0</td>\n",
       "      <td>0</td>\n",
       "      <td>0</td>\n",
       "      <td>0</td>\n",
       "      <td>0</td>\n",
       "      <td>1</td>\n",
       "      <td>0</td>\n",
       "      <td>...</td>\n",
       "      <td>0</td>\n",
       "      <td>0</td>\n",
       "      <td>0</td>\n",
       "      <td>0</td>\n",
       "      <td>1</td>\n",
       "      <td>0</td>\n",
       "      <td>0</td>\n",
       "      <td>0</td>\n",
       "      <td>0</td>\n",
       "      <td>0</td>\n",
       "    </tr>\n",
       "  </tbody>\n",
       "</table>\n",
       "<p>6 rows × 31 columns</p>\n",
       "</div>"
      ],
      "text/plain": [
       "   餐厅  高  一家  消费  菜品  也  比较  孜然牛柳  推荐  东西  ...  环境  在这  让人  不  很  不错  老板  觉得  \\\n",
       "0   0  0   0   1   1  0   0     0   0   0  ...   0   1   0  1  1   0   0   0   \n",
       "1   0  0   0   0   0  0   0     0   0   0  ...   0   0   0  0  1   0   1   0   \n",
       "2   0  0   0   0   0  0   0     0   0   1  ...   0   0   1  0  0   1   0   1   \n",
       "3   0  0   0   0   0  0   0     1   0   0  ...   1   0   0  0  1   1   0   0   \n",
       "4   0  0   0   0   0  1   1     0   0   0  ...   1   0   0  0  0   0   0   0   \n",
       "5   1  1   1   0   0  0   0     0   1   0  ...   0   0   0  0  1   0   0   0   \n",
       "\n",
       "   坑人  去  \n",
       "0   0  0  \n",
       "1   1  1  \n",
       "2   0  0  \n",
       "3   0  0  \n",
       "4   0  0  \n",
       "5   0  0  \n",
       "\n",
       "[6 rows x 31 columns]"
      ]
     },
     "execution_count": 10,
     "metadata": {},
     "output_type": "execute_result"
    }
   ],
   "source": [
    "#将词矩阵转换成数据框\n",
    "df =pd.DataFrame(trainMatrix)\n",
    "df"
   ]
  },
  {
   "cell_type": "code",
   "execution_count": 11,
   "metadata": {},
   "outputs": [
    {
     "data": {
      "text/plain": [
       "0    1\n",
       "1    1\n",
       "2    0\n",
       "3    0\n",
       "4    1\n",
       "5    0\n",
       "dtype: int64"
      ]
     },
     "execution_count": 11,
     "metadata": {},
     "output_type": "execute_result"
    }
   ],
   "source": [
    "#将标签转换为序列\n",
    "se=pd.Series(classVec)\n",
    "se"
   ]
  },
  {
   "cell_type": "code",
   "execution_count": 12,
   "metadata": {},
   "outputs": [
    {
     "data": {
      "text/html": [
       "<div>\n",
       "<style scoped>\n",
       "    .dataframe tbody tr th:only-of-type {\n",
       "        vertical-align: middle;\n",
       "    }\n",
       "\n",
       "    .dataframe tbody tr th {\n",
       "        vertical-align: top;\n",
       "    }\n",
       "\n",
       "    .dataframe thead th {\n",
       "        text-align: right;\n",
       "    }\n",
       "</style>\n",
       "<table border=\"1\" class=\"dataframe\">\n",
       "  <thead>\n",
       "    <tr style=\"text-align: right;\">\n",
       "      <th></th>\n",
       "      <th>餐厅</th>\n",
       "      <th>高</th>\n",
       "      <th>一家</th>\n",
       "      <th>消费</th>\n",
       "      <th>菜品</th>\n",
       "      <th>也</th>\n",
       "      <th>比较</th>\n",
       "      <th>孜然牛柳</th>\n",
       "      <th>推荐</th>\n",
       "      <th>东西</th>\n",
       "      <th>...</th>\n",
       "      <th>环境</th>\n",
       "      <th>在这</th>\n",
       "      <th>让人</th>\n",
       "      <th>不</th>\n",
       "      <th>很</th>\n",
       "      <th>不错</th>\n",
       "      <th>老板</th>\n",
       "      <th>觉得</th>\n",
       "      <th>坑人</th>\n",
       "      <th>去</th>\n",
       "    </tr>\n",
       "  </thead>\n",
       "  <tbody>\n",
       "    <tr>\n",
       "      <th>0</th>\n",
       "      <td>0</td>\n",
       "      <td>0</td>\n",
       "      <td>0</td>\n",
       "      <td>1</td>\n",
       "      <td>1</td>\n",
       "      <td>0</td>\n",
       "      <td>0</td>\n",
       "      <td>0</td>\n",
       "      <td>0</td>\n",
       "      <td>0</td>\n",
       "      <td>...</td>\n",
       "      <td>0</td>\n",
       "      <td>1</td>\n",
       "      <td>0</td>\n",
       "      <td>1</td>\n",
       "      <td>1</td>\n",
       "      <td>0</td>\n",
       "      <td>0</td>\n",
       "      <td>0</td>\n",
       "      <td>0</td>\n",
       "      <td>0</td>\n",
       "    </tr>\n",
       "    <tr>\n",
       "      <th>1</th>\n",
       "      <td>0</td>\n",
       "      <td>0</td>\n",
       "      <td>0</td>\n",
       "      <td>0</td>\n",
       "      <td>0</td>\n",
       "      <td>0</td>\n",
       "      <td>0</td>\n",
       "      <td>0</td>\n",
       "      <td>0</td>\n",
       "      <td>0</td>\n",
       "      <td>...</td>\n",
       "      <td>0</td>\n",
       "      <td>0</td>\n",
       "      <td>0</td>\n",
       "      <td>0</td>\n",
       "      <td>1</td>\n",
       "      <td>0</td>\n",
       "      <td>1</td>\n",
       "      <td>0</td>\n",
       "      <td>1</td>\n",
       "      <td>1</td>\n",
       "    </tr>\n",
       "    <tr>\n",
       "      <th>4</th>\n",
       "      <td>0</td>\n",
       "      <td>0</td>\n",
       "      <td>0</td>\n",
       "      <td>0</td>\n",
       "      <td>0</td>\n",
       "      <td>1</td>\n",
       "      <td>1</td>\n",
       "      <td>0</td>\n",
       "      <td>0</td>\n",
       "      <td>0</td>\n",
       "      <td>...</td>\n",
       "      <td>1</td>\n",
       "      <td>0</td>\n",
       "      <td>0</td>\n",
       "      <td>0</td>\n",
       "      <td>0</td>\n",
       "      <td>0</td>\n",
       "      <td>0</td>\n",
       "      <td>0</td>\n",
       "      <td>0</td>\n",
       "      <td>0</td>\n",
       "    </tr>\n",
       "  </tbody>\n",
       "</table>\n",
       "<p>3 rows × 31 columns</p>\n",
       "</div>"
      ],
      "text/plain": [
       "   餐厅  高  一家  消费  菜品  也  比较  孜然牛柳  推荐  东西  ...  环境  在这  让人  不  很  不错  老板  觉得  \\\n",
       "0   0  0   0   1   1  0   0     0   0   0  ...   0   1   0  1  1   0   0   0   \n",
       "1   0  0   0   0   0  0   0     0   0   0  ...   0   0   0  0  1   0   1   0   \n",
       "4   0  0   0   0   0  1   1     0   0   0  ...   1   0   0  0  0   0   0   0   \n",
       "\n",
       "   坑人  去  \n",
       "0   0  0  \n",
       "1   1  1  \n",
       "4   0  0  \n",
       "\n",
       "[3 rows x 31 columns]"
      ]
     },
     "execution_count": 12,
     "metadata": {},
     "output_type": "execute_result"
    }
   ],
   "source": [
    "#取消极词语的数据\n",
    "df_neg=df[se==1]\n",
    "df_neg"
   ]
  },
  {
   "cell_type": "code",
   "execution_count": 13,
   "metadata": {},
   "outputs": [
    {
     "data": {
      "text/plain": [
       "餐厅      0\n",
       "高       0\n",
       "一家      0\n",
       "消费      1\n",
       "菜品      1\n",
       "也       1\n",
       "比较      1\n",
       "孜然牛柳    0\n",
       "推荐      0\n",
       "东西      0\n",
       "建议      2\n",
       "味道      1\n",
       "一般      2\n",
       "拥挤      1\n",
       "别家      1\n",
       "好吃      0\n",
       "性价比     0\n",
       "闹心      1\n",
       "惊艳      0\n",
       "口味      0\n",
       "真的      1\n",
       "环境      1\n",
       "在这      1\n",
       "让人      0\n",
       "不       1\n",
       "很       2\n",
       "不错      0\n",
       "老板      1\n",
       "觉得      0\n",
       "坑人      1\n",
       "去       1\n",
       "dtype: int64"
      ]
     },
     "execution_count": 13,
     "metadata": {},
     "output_type": "execute_result"
    }
   ],
   "source": [
    "#计算消极词语出现的次数\n",
    "p_negWordNum = df_neg.sum()\n",
    "p_negWordNum"
   ]
  },
  {
   "cell_type": "code",
   "execution_count": 14,
   "metadata": {},
   "outputs": [
    {
     "data": {
      "text/plain": [
       "21"
      ]
     },
     "execution_count": 14,
     "metadata": {},
     "output_type": "execute_result"
    }
   ],
   "source": [
    "#计算消极词语的词语总数\n",
    "p_negAllNum = p_negWordNum.sum()\n",
    "p_negAllNum"
   ]
  },
  {
   "cell_type": "code",
   "execution_count": 15,
   "metadata": {},
   "outputs": [
    {
     "data": {
      "text/plain": [
       "餐厅      0.000000\n",
       "高       0.000000\n",
       "一家      0.000000\n",
       "消费      0.047619\n",
       "菜品      0.047619\n",
       "也       0.047619\n",
       "比较      0.047619\n",
       "孜然牛柳    0.000000\n",
       "推荐      0.000000\n",
       "东西      0.000000\n",
       "建议      0.095238\n",
       "味道      0.047619\n",
       "一般      0.095238\n",
       "拥挤      0.047619\n",
       "别家      0.047619\n",
       "好吃      0.000000\n",
       "性价比     0.000000\n",
       "闹心      0.047619\n",
       "惊艳      0.000000\n",
       "口味      0.000000\n",
       "真的      0.047619\n",
       "环境      0.047619\n",
       "在这      0.047619\n",
       "让人      0.000000\n",
       "不       0.047619\n",
       "很       0.095238\n",
       "不错      0.000000\n",
       "老板      0.047619\n",
       "觉得      0.000000\n",
       "坑人      0.047619\n",
       "去       0.047619\n",
       "dtype: float64"
      ]
     },
     "execution_count": 15,
     "metadata": {},
     "output_type": "execute_result"
    }
   ],
   "source": [
    "#计算消极词语的条件概率\n",
    "p_negVect= p_negWordNum/p_negAllNum\n",
    "p_negVect"
   ]
  },
  {
   "cell_type": "code",
   "execution_count": 16,
   "metadata": {},
   "outputs": [
    {
     "data": {
      "text/plain": [
       "0.5"
      ]
     },
     "execution_count": 16,
     "metadata": {},
     "output_type": "execute_result"
    }
   ],
   "source": [
    "#计算消极文档出现的概率\n",
    "p_negDoc = len(df_neg)/len(df)\n",
    "p_negDoc"
   ]
  },
  {
   "cell_type": "code",
   "execution_count": 17,
   "metadata": {},
   "outputs": [
    {
     "data": {
      "text/html": [
       "<div>\n",
       "<style scoped>\n",
       "    .dataframe tbody tr th:only-of-type {\n",
       "        vertical-align: middle;\n",
       "    }\n",
       "\n",
       "    .dataframe tbody tr th {\n",
       "        vertical-align: top;\n",
       "    }\n",
       "\n",
       "    .dataframe thead th {\n",
       "        text-align: right;\n",
       "    }\n",
       "</style>\n",
       "<table border=\"1\" class=\"dataframe\">\n",
       "  <thead>\n",
       "    <tr style=\"text-align: right;\">\n",
       "      <th></th>\n",
       "      <th>餐厅</th>\n",
       "      <th>高</th>\n",
       "      <th>一家</th>\n",
       "      <th>消费</th>\n",
       "      <th>菜品</th>\n",
       "      <th>也</th>\n",
       "      <th>比较</th>\n",
       "      <th>孜然牛柳</th>\n",
       "      <th>推荐</th>\n",
       "      <th>东西</th>\n",
       "      <th>...</th>\n",
       "      <th>环境</th>\n",
       "      <th>在这</th>\n",
       "      <th>让人</th>\n",
       "      <th>不</th>\n",
       "      <th>很</th>\n",
       "      <th>不错</th>\n",
       "      <th>老板</th>\n",
       "      <th>觉得</th>\n",
       "      <th>坑人</th>\n",
       "      <th>去</th>\n",
       "    </tr>\n",
       "  </thead>\n",
       "  <tbody>\n",
       "    <tr>\n",
       "      <th>2</th>\n",
       "      <td>0</td>\n",
       "      <td>0</td>\n",
       "      <td>0</td>\n",
       "      <td>0</td>\n",
       "      <td>0</td>\n",
       "      <td>0</td>\n",
       "      <td>0</td>\n",
       "      <td>0</td>\n",
       "      <td>0</td>\n",
       "      <td>1</td>\n",
       "      <td>...</td>\n",
       "      <td>0</td>\n",
       "      <td>0</td>\n",
       "      <td>1</td>\n",
       "      <td>0</td>\n",
       "      <td>0</td>\n",
       "      <td>1</td>\n",
       "      <td>0</td>\n",
       "      <td>1</td>\n",
       "      <td>0</td>\n",
       "      <td>0</td>\n",
       "    </tr>\n",
       "    <tr>\n",
       "      <th>3</th>\n",
       "      <td>0</td>\n",
       "      <td>0</td>\n",
       "      <td>0</td>\n",
       "      <td>0</td>\n",
       "      <td>0</td>\n",
       "      <td>0</td>\n",
       "      <td>0</td>\n",
       "      <td>1</td>\n",
       "      <td>0</td>\n",
       "      <td>0</td>\n",
       "      <td>...</td>\n",
       "      <td>1</td>\n",
       "      <td>0</td>\n",
       "      <td>0</td>\n",
       "      <td>0</td>\n",
       "      <td>1</td>\n",
       "      <td>1</td>\n",
       "      <td>0</td>\n",
       "      <td>0</td>\n",
       "      <td>0</td>\n",
       "      <td>0</td>\n",
       "    </tr>\n",
       "    <tr>\n",
       "      <th>5</th>\n",
       "      <td>1</td>\n",
       "      <td>1</td>\n",
       "      <td>1</td>\n",
       "      <td>0</td>\n",
       "      <td>0</td>\n",
       "      <td>0</td>\n",
       "      <td>0</td>\n",
       "      <td>0</td>\n",
       "      <td>1</td>\n",
       "      <td>0</td>\n",
       "      <td>...</td>\n",
       "      <td>0</td>\n",
       "      <td>0</td>\n",
       "      <td>0</td>\n",
       "      <td>0</td>\n",
       "      <td>1</td>\n",
       "      <td>0</td>\n",
       "      <td>0</td>\n",
       "      <td>0</td>\n",
       "      <td>0</td>\n",
       "      <td>0</td>\n",
       "    </tr>\n",
       "  </tbody>\n",
       "</table>\n",
       "<p>3 rows × 31 columns</p>\n",
       "</div>"
      ],
      "text/plain": [
       "   餐厅  高  一家  消费  菜品  也  比较  孜然牛柳  推荐  东西  ...  环境  在这  让人  不  很  不错  老板  觉得  \\\n",
       "2   0  0   0   0   0  0   0     0   0   1  ...   0   0   1  0  0   1   0   1   \n",
       "3   0  0   0   0   0  0   0     1   0   0  ...   1   0   0  0  1   1   0   0   \n",
       "5   1  1   1   0   0  0   0     0   1   0  ...   0   0   0  0  1   0   0   0   \n",
       "\n",
       "   坑人  去  \n",
       "2   0  0  \n",
       "3   0  0  \n",
       "5   0  0  \n",
       "\n",
       "[3 rows x 31 columns]"
      ]
     },
     "execution_count": 17,
     "metadata": {},
     "output_type": "execute_result"
    }
   ],
   "source": [
    "#取积极词语的数据\n",
    "df_pos = df[se==0]\n",
    "df_pos"
   ]
  },
  {
   "cell_type": "code",
   "execution_count": 18,
   "metadata": {},
   "outputs": [
    {
     "data": {
      "text/plain": [
       "餐厅      1\n",
       "高       1\n",
       "一家      1\n",
       "消费      0\n",
       "菜品      0\n",
       "也       0\n",
       "比较      0\n",
       "孜然牛柳    1\n",
       "推荐      1\n",
       "东西      1\n",
       "建议      0\n",
       "味道      0\n",
       "一般      0\n",
       "拥挤      0\n",
       "别家      0\n",
       "好吃      1\n",
       "性价比     1\n",
       "闹心      0\n",
       "惊艳      1\n",
       "口味      1\n",
       "真的      0\n",
       "环境      1\n",
       "在这      0\n",
       "让人      1\n",
       "不       0\n",
       "很       2\n",
       "不错      2\n",
       "老板      0\n",
       "觉得      1\n",
       "坑人      0\n",
       "去       0\n",
       "dtype: int64"
      ]
     },
     "execution_count": 18,
     "metadata": {},
     "output_type": "execute_result"
    }
   ],
   "source": [
    "#计算积极词语出现的次数\n",
    "p_posWordNum = df_pos.sum()\n",
    "p_posWordNum"
   ]
  },
  {
   "cell_type": "code",
   "execution_count": 19,
   "metadata": {},
   "outputs": [
    {
     "data": {
      "text/plain": [
       "17"
      ]
     },
     "execution_count": 19,
     "metadata": {},
     "output_type": "execute_result"
    }
   ],
   "source": [
    "#计算积极词语的词语总数\n",
    "p_posAllNum = p_posWordNum.sum()\n",
    "p_posAllNum"
   ]
  },
  {
   "cell_type": "code",
   "execution_count": 20,
   "metadata": {},
   "outputs": [
    {
     "data": {
      "text/plain": [
       "餐厅      0.058824\n",
       "高       0.058824\n",
       "一家      0.058824\n",
       "消费      0.000000\n",
       "菜品      0.000000\n",
       "也       0.000000\n",
       "比较      0.000000\n",
       "孜然牛柳    0.058824\n",
       "推荐      0.058824\n",
       "东西      0.058824\n",
       "建议      0.000000\n",
       "味道      0.000000\n",
       "一般      0.000000\n",
       "拥挤      0.000000\n",
       "别家      0.000000\n",
       "好吃      0.058824\n",
       "性价比     0.058824\n",
       "闹心      0.000000\n",
       "惊艳      0.058824\n",
       "口味      0.058824\n",
       "真的      0.000000\n",
       "环境      0.058824\n",
       "在这      0.000000\n",
       "让人      0.058824\n",
       "不       0.000000\n",
       "很       0.117647\n",
       "不错      0.117647\n",
       "老板      0.000000\n",
       "觉得      0.058824\n",
       "坑人      0.000000\n",
       "去       0.000000\n",
       "dtype: float64"
      ]
     },
     "execution_count": 20,
     "metadata": {},
     "output_type": "execute_result"
    }
   ],
   "source": [
    "#计算积极词语的条件概率\n",
    "p_posVect=p_posWordNum/p_posAllNum\n",
    "p_posVect"
   ]
  },
  {
   "cell_type": "code",
   "execution_count": 21,
   "metadata": {},
   "outputs": [
    {
     "data": {
      "text/plain": [
       "0.5"
      ]
     },
     "execution_count": 21,
     "metadata": {},
     "output_type": "execute_result"
    }
   ],
   "source": [
    "#计算积极文章出现的概率\n",
    "p_posDoc = len(df_pos)/len(df)\n",
    "p_posDoc"
   ]
  },
  {
   "cell_type": "code",
   "execution_count": 22,
   "metadata": {},
   "outputs": [],
   "source": [
    "#创建测试文章\n",
    "testDoc = ['环境','很','不错']"
   ]
  },
  {
   "cell_type": "code",
   "execution_count": 23,
   "metadata": {},
   "outputs": [
    {
     "data": {
      "text/plain": [
       "环境    0.047619\n",
       "很     0.095238\n",
       "不错    0.000000\n",
       "dtype: float64"
      ]
     },
     "execution_count": 23,
     "metadata": {},
     "output_type": "execute_result"
    }
   ],
   "source": [
    "#查找消极文章词语的条件概率\n",
    "p_negCurVect=p_negVect[testDoc]\n",
    "p_negCurVect"
   ]
  },
  {
   "cell_type": "code",
   "execution_count": 24,
   "metadata": {},
   "outputs": [
    {
     "data": {
      "text/plain": [
       "0.0"
      ]
     },
     "execution_count": 24,
     "metadata": {},
     "output_type": "execute_result"
    }
   ],
   "source": [
    "#计算总概率\n",
    "p_negFeatCla=p_negCurVect.prod()\n",
    "p_negFeatCla"
   ]
  },
  {
   "cell_type": "code",
   "execution_count": 25,
   "metadata": {},
   "outputs": [
    {
     "data": {
      "text/plain": [
       "0.5"
      ]
     },
     "execution_count": 25,
     "metadata": {},
     "output_type": "execute_result"
    }
   ],
   "source": [
    "#赋值消极文章概率\n",
    "p_negCla=p_negDoc\n",
    "p_negCla"
   ]
  },
  {
   "cell_type": "code",
   "execution_count": 26,
   "metadata": {},
   "outputs": [
    {
     "data": {
      "text/plain": [
       "0.0"
      ]
     },
     "execution_count": 26,
     "metadata": {},
     "output_type": "execute_result"
    }
   ],
   "source": [
    "#计算该文章属于消极文章的概率\n",
    "p_negFinal = p_negFeatCla * p_negCla\n",
    "p_negFinal"
   ]
  },
  {
   "cell_type": "code",
   "execution_count": 27,
   "metadata": {},
   "outputs": [
    {
     "data": {
      "text/plain": [
       "0.0008141664970486464"
      ]
     },
     "execution_count": 27,
     "metadata": {},
     "output_type": "execute_result"
    }
   ],
   "source": [
    "#计算该文章属于积极文章的概率\n",
    "p_posFeatCla=p_posVect[testDoc].prod()\n",
    "p_posFeatCla"
   ]
  },
  {
   "cell_type": "code",
   "execution_count": 28,
   "metadata": {},
   "outputs": [
    {
     "data": {
      "text/plain": [
       "0.5"
      ]
     },
     "execution_count": 28,
     "metadata": {},
     "output_type": "execute_result"
    }
   ],
   "source": [
    "#计算积极文章出现的概率\n",
    "p_posCla=(1-p_negDoc)\n",
    "p_posCla"
   ]
  },
  {
   "cell_type": "code",
   "execution_count": 29,
   "metadata": {},
   "outputs": [
    {
     "data": {
      "text/plain": [
       "0.0004070832485243232"
      ]
     },
     "execution_count": 29,
     "metadata": {},
     "output_type": "execute_result"
    }
   ],
   "source": [
    "#计算该文章属于积极文章的概率\n",
    "p_posFinal = p_posFeatCla * p_posCla\n",
    "p_posFinal"
   ]
  }
 ],
 "metadata": {
  "kernelspec": {
   "display_name": "base",
   "language": "python",
   "name": "python3"
  },
  "language_info": {
   "codemirror_mode": {
    "name": "ipython",
    "version": 3
   },
   "file_extension": ".py",
   "mimetype": "text/x-python",
   "name": "python",
   "nbconvert_exporter": "python",
   "pygments_lexer": "ipython3",
   "version": "3.9.13"
  },
  "orig_nbformat": 4
 },
 "nbformat": 4,
 "nbformat_minor": 2
}
