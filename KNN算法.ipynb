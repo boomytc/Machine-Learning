{
 "cells": [
  {
   "cell_type": "code",
   "execution_count": 1,
   "id": "143a7e4f",
   "metadata": {},
   "outputs": [],
   "source": [
    "import numpy as np\n",
    "import matplotlib.pyplot as plt\n",
    "from collections import Counter"
   ]
  },
  {
   "cell_type": "code",
   "execution_count": 2,
   "id": "868001c9",
   "metadata": {},
   "outputs": [],
   "source": [
    "# KNN算法计算近邻距离，并对待检测样本划分类别\n",
    "def kNN_classifier(k,x_train,y_train,x_new):\n",
    "    if k<1 or k>x_train.shape[0]:\n",
    "        print(\"k值设定有误，请重新指定近邻数！\")\n",
    "        return None\n",
    "    if x_train.shape[0] !=y_train.shape[0]:\n",
    "        print(\"样本数据和样本类别标签规模必须一致！请检查输入数据！\")\n",
    "        return None\n",
    "    if x_train.shape[1] != x_new.shape[0]:\n",
    "        print(\"待测数据与训练数据的特征维度不一致！\")\n",
    "        return None\n",
    "    \n",
    "    # 计算新样本点与所有训练数据集中的样本点的欧式距离\n",
    "    distances = [np.sqrt(np.sum((x_new - x)**2)) for x in x_train]\n",
    "    print(\"distances:\")\n",
    "    print(distances)\n",
    "\n",
    "    # 对距离进行倒排序,返回的是排序之后的索引位置\n",
    "    # np.argsort()是将X中的元素从小到大排序后，提取对应的索引index\n",
    "    nearest = np.argsort(distances)\n",
    "    print(\"nearest:\")\n",
    "    print(nearest)\n",
    "\n",
    "    #获取最近邻的标签类别\n",
    "    topk_y =[y_train[i] for i in nearest[:k]]\n",
    "    print(\"topk_y:\")\n",
    "    print(topk_y)\n",
    "\n",
    "    #进行投票\n",
    "    votes= Counter(topk_y)\n",
    "    print(\"votes:\")\n",
    "    print(votes) #形如：Counter({1:2,0:1})\n",
    "\n",
    "    \"\"\"\n",
    "    most_commom()函数用法示例:\n",
    "    votes.most_common(5) #  #取前5的结果，也就是说计数最多的前5个\n",
    "    比如返回值为：[(1, 5), (2, 3), (4, 2), (5, 2), (6, 1)]\n",
    "    most_common()函数返回的结果是元组列表，不是字典\n",
    "    \"\"\"\n",
    "\n",
    "    #返回票数最多的标签值\n",
    "    return votes.most_common(1)[0][0]"
   ]
  },
  {
   "cell_type": "code",
   "execution_count": 3,
   "id": "5131c56e",
   "metadata": {},
   "outputs": [],
   "source": [
    "#源数据可视化\n",
    "def raw_data_visualization(x_train,y_train,x_new):\n",
    "    plt.scatter(x_train[y_train==0,0],x_train[y_train==0,1],color='g')\n",
    "    plt.scatter(x_train[y_train==1,0],x_train[y_train==1,1],color='r')\n",
    "    plt.scatter(x_new[0],x_new[1],color='b',marker='^')\n",
    "    plt.show()"
   ]
  },
  {
   "cell_type": "code",
   "execution_count": 4,
   "id": "fef5818b",
   "metadata": {},
   "outputs": [],
   "source": [
    "#先创建好数据集x_train,y_train\n",
    "raw_data_x=[[4.3935, 2.3313],\n",
    "              [4.1101, 1.7815],\n",
    "              [3.3438, 3.3684],\n",
    "              [3.5823, 4.6792],\n",
    "              [3.2804, 2.8670],\n",
    "              [6.3603, 3.0724],\n",
    "\n",
    "              [8.1305, 2.7432],\n",
    "              [7.4234, 4.6965],\n",
    "              [5.7451, 3.5340],\n",
    "              [9.1722, 2.5111],\n",
    "              [7.7928, 3.4241],\n",
    "              [7.9398, 0.7916]]\n",
    "raw_data_y=[0,0,0,0,0,0,\n",
    "            1,1,1,1,1,1]"
   ]
  },
  {
   "cell_type": "code",
   "execution_count": 5,
   "id": "a4374d7c",
   "metadata": {},
   "outputs": [],
   "source": [
    "x_train = np.array(raw_data_x)\n",
    "y_train = np.array(raw_data_y)"
   ]
  },
  {
   "cell_type": "code",
   "execution_count": 6,
   "id": "bd678184",
   "metadata": {},
   "outputs": [
    {
     "data": {
      "text/plain": [
       "array([[4.3935, 2.3313],\n",
       "       [4.1101, 1.7815],\n",
       "       [3.3438, 3.3684],\n",
       "       [3.5823, 4.6792],\n",
       "       [3.2804, 2.867 ],\n",
       "       [6.3603, 3.0724],\n",
       "       [8.1305, 2.7432],\n",
       "       [7.4234, 4.6965],\n",
       "       [5.7451, 3.534 ],\n",
       "       [9.1722, 2.5111],\n",
       "       [7.7928, 3.4241],\n",
       "       [7.9398, 0.7916]])"
      ]
     },
     "execution_count": 6,
     "metadata": {},
     "output_type": "execute_result"
    }
   ],
   "source": [
    "x_train"
   ]
  },
  {
   "cell_type": "code",
   "execution_count": 7,
   "id": "7fbb76d0",
   "metadata": {},
   "outputs": [
    {
     "data": {
      "text/plain": [
       "array([0, 0, 0, 0, 0, 0, 1, 1, 1, 1, 1, 1])"
      ]
     },
     "execution_count": 7,
     "metadata": {},
     "output_type": "execute_result"
    }
   ],
   "source": [
    "y_train"
   ]
  },
  {
   "cell_type": "code",
   "execution_count": 8,
   "id": "56bc317a",
   "metadata": {},
   "outputs": [],
   "source": [
    "#创建一个新的数据x_new\n",
    "#x_new = np.array([8.0936,3.3657])\n",
    "x_new = np.array([6.8936,3.2657])"
   ]
  },
  {
   "cell_type": "code",
   "execution_count": 9,
   "id": "24de5761",
   "metadata": {},
   "outputs": [
    {
     "name": "stdout",
     "output_type": "stream",
     "text": [
      "distances:\n",
      "[2.669007937417946, 3.1544764842997326, 3.5512853067586674, 3.600373583393812, 3.635130799572417, 0.5672510731589677, 1.3427314921457671, 1.525738077128575, 1.1794223755720428, 2.400299797941915, 0.9130450153196168, 2.6862064794054827]\n",
      "nearest:\n",
      "[ 5 10  8  6  7  9  0 11  1  2  3  4]\n",
      "topk_y:\n",
      "[0, 1, 1]\n",
      "votes:\n",
      "Counter({1: 2, 0: 1})\n"
     ]
    }
   ],
   "source": [
    "y_new =kNN_classifier(k=3,x_train=x_train,y_train=y_train,x_new=x_new)"
   ]
  },
  {
   "cell_type": "code",
   "execution_count": 10,
   "id": "b8a8c949",
   "metadata": {},
   "outputs": [
    {
     "data": {
      "text/plain": [
       "1"
      ]
     },
     "execution_count": 10,
     "metadata": {},
     "output_type": "execute_result"
    }
   ],
   "source": [
    "#待测样本所属类别\n",
    "y_new"
   ]
  },
  {
   "cell_type": "code",
   "execution_count": 11,
   "id": "541ac970",
   "metadata": {},
   "outputs": [
    {
     "data": {
      "image/png": "[encoded data removed]",
      "text/plain": [
       "<Figure size 640x480 with 1 Axes>"
      ]
     },
     "metadata": {},
     "output_type": "display_data"
    }
   ],
   "source": [
    "#数据探查，使用matplot将其可视化出来\n",
    "raw_data_visualization(x_train=x_train, y_train=y_train,x_new=x_new)"
   ]
  },
  {
   "cell_type": "code",
   "execution_count": null,
   "id": "4cc14f0f",
   "metadata": {},
   "outputs": [],
   "source": []
  }
 ],
 "metadata": {
  "kernelspec": {
   "display_name": "Python 3 (ipykernel)",
   "language": "python",
   "name": "python3"
  },
  "language_info": {
   "codemirror_mode": {
    "name": "ipython",
    "version": 3
   },
   "file_extension": ".py",
   "mimetype": "text/x-python",
   "name": "python",
   "nbconvert_exporter": "python",
   "pygments_lexer": "ipython3",
   "version": "3.9.13"
  },
  "vscode": {
   "interpreter": {
    "hash": "88279d2366fe020547cde40dd65aa0e3aa662a6ec1f3ca12d88834876c85e1a6"
   }
  }
 },
 "nbformat": 4,
 "nbformat_minor": 5
}
