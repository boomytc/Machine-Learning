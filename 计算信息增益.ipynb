{
 "cells": [
  {
   "cell_type": "code",
   "execution_count": 3,
   "id": "973ae2ee",
   "metadata": {},
   "outputs": [],
   "source": [
    "#导入相关包\n",
    "import numpy as np\n",
    "import pandas as pd"
   ]
  },
  {
   "cell_type": "code",
   "execution_count": 4,
   "id": "7a5836e9",
   "metadata": {},
   "outputs": [],
   "source": [
    "#导入相关数据\n",
    "data=[\n",
    "    [1,0,0,'打球'],\n",
    "    [1,0,1,'打球'],\n",
    "    [0,1,1,'打球'],\n",
    "    [0,0,1,'不打球'],\n",
    "    [1,1,1,'打球'],\n",
    "]"
   ]
  },
  {
   "cell_type": "code",
   "execution_count": 5,
   "id": "05d52ff2",
   "metadata": {},
   "outputs": [],
   "source": [
    "#封装计算熵的函数\n",
    "def ent(data):\n",
    "    df=pd.DataFrame(data)\n",
    "    data_length=len(data)\n",
    "    target=df.iloc[:,-1]\n",
    "    label_counts=target.value_counts()\n",
    "    label_dict=label_counts.to_dict()\n",
    "    entropy=0\n",
    "    for key in label_dict:\n",
    "        prob = float(label_dict[key])/data_length\n",
    "        entropy -= prob * np.log2(prob)\n",
    "    return entropy"
   ]
  },
  {
   "cell_type": "code",
   "execution_count": 6,
   "id": "26e8dc8e",
   "metadata": {},
   "outputs": [
    {
     "data": {
      "text/plain": [
       "0.7219280948873623"
      ]
     },
     "execution_count": 6,
     "metadata": {},
     "output_type": "execute_result"
    }
   ],
   "source": [
    "#测试计算熵的函数\n",
    "ent(data)"
   ]
  },
  {
   "cell_type": "code",
   "execution_count": 9,
   "id": "14cb560d",
   "metadata": {},
   "outputs": [],
   "source": [
    "#封装分割数据的函数\n",
    "def split(data,feature_rank):\n",
    "    df = pd.DataFrame(data)\n",
    "    groups = df.groupby(by=feature_rank)\n",
    "    data_group={}\n",
    "    for key in groups.groups.keys():\n",
    "        data_group[key] = df.loc[groups.groups[key],:]\n",
    "    return data_group"
   ]
  },
  {
   "cell_type": "code",
   "execution_count": 10,
   "id": "7391f22a",
   "metadata": {},
   "outputs": [],
   "source": [
    "#测试封装数据的函数\n",
    "data_group=split(data,0)"
   ]
  },
  {
   "cell_type": "code",
   "execution_count": 12,
   "id": "32fe5ce6",
   "metadata": {},
   "outputs": [
    {
     "data": {
      "text/plain": [
       "dict_keys([0, 1])"
      ]
     },
     "execution_count": 12,
     "metadata": {},
     "output_type": "execute_result"
    }
   ],
   "source": [
    "#查看分割后数据的分类名称\n",
    "data_group.keys()"
   ]
  },
  {
   "cell_type": "code",
   "execution_count": 13,
   "id": "f725375b",
   "metadata": {},
   "outputs": [
    {
     "data": {
      "text/html": [
       "<div>\n",
       "<style scoped>\n",
       "    .dataframe tbody tr th:only-of-type {\n",
       "        vertical-align: middle;\n",
       "    }\n",
       "\n",
       "    .dataframe tbody tr th {\n",
       "        vertical-align: top;\n",
       "    }\n",
       "\n",
       "    .dataframe thead th {\n",
       "        text-align: right;\n",
       "    }\n",
       "</style>\n",
       "<table border=\"1\" class=\"dataframe\">\n",
       "  <thead>\n",
       "    <tr style=\"text-align: right;\">\n",
       "      <th></th>\n",
       "      <th>0</th>\n",
       "      <th>1</th>\n",
       "      <th>2</th>\n",
       "      <th>3</th>\n",
       "    </tr>\n",
       "  </thead>\n",
       "  <tbody>\n",
       "    <tr>\n",
       "      <th>2</th>\n",
       "      <td>0</td>\n",
       "      <td>1</td>\n",
       "      <td>1</td>\n",
       "      <td>打球</td>\n",
       "    </tr>\n",
       "    <tr>\n",
       "      <th>3</th>\n",
       "      <td>0</td>\n",
       "      <td>0</td>\n",
       "      <td>1</td>\n",
       "      <td>不打球</td>\n",
       "    </tr>\n",
       "  </tbody>\n",
       "</table>\n",
       "</div>"
      ],
      "text/plain": [
       "   0  1  2    3\n",
       "2  0  1  1   打球\n",
       "3  0  0  1  不打球"
      ]
     },
     "execution_count": 13,
     "metadata": {},
     "output_type": "execute_result"
    }
   ],
   "source": [
    "#查看第1个分类\n",
    "data_group[0]"
   ]
  },
  {
   "cell_type": "code",
   "execution_count": 14,
   "id": "4dafd65d",
   "metadata": {},
   "outputs": [
    {
     "data": {
      "text/html": [
       "<div>\n",
       "<style scoped>\n",
       "    .dataframe tbody tr th:only-of-type {\n",
       "        vertical-align: middle;\n",
       "    }\n",
       "\n",
       "    .dataframe tbody tr th {\n",
       "        vertical-align: top;\n",
       "    }\n",
       "\n",
       "    .dataframe thead th {\n",
       "        text-align: right;\n",
       "    }\n",
       "</style>\n",
       "<table border=\"1\" class=\"dataframe\">\n",
       "  <thead>\n",
       "    <tr style=\"text-align: right;\">\n",
       "      <th></th>\n",
       "      <th>0</th>\n",
       "      <th>1</th>\n",
       "      <th>2</th>\n",
       "      <th>3</th>\n",
       "    </tr>\n",
       "  </thead>\n",
       "  <tbody>\n",
       "    <tr>\n",
       "      <th>0</th>\n",
       "      <td>1</td>\n",
       "      <td>0</td>\n",
       "      <td>0</td>\n",
       "      <td>打球</td>\n",
       "    </tr>\n",
       "    <tr>\n",
       "      <th>1</th>\n",
       "      <td>1</td>\n",
       "      <td>0</td>\n",
       "      <td>1</td>\n",
       "      <td>打球</td>\n",
       "    </tr>\n",
       "    <tr>\n",
       "      <th>4</th>\n",
       "      <td>1</td>\n",
       "      <td>1</td>\n",
       "      <td>1</td>\n",
       "      <td>打球</td>\n",
       "    </tr>\n",
       "  </tbody>\n",
       "</table>\n",
       "</div>"
      ],
      "text/plain": [
       "   0  1  2   3\n",
       "0  1  0  0  打球\n",
       "1  1  0  1  打球\n",
       "4  1  1  1  打球"
      ]
     },
     "execution_count": 14,
     "metadata": {},
     "output_type": "execute_result"
    }
   ],
   "source": [
    "#查看第2个分类\n",
    "data_group[1]"
   ]
  },
  {
   "cell_type": "code",
   "execution_count": 15,
   "id": "11636662",
   "metadata": {},
   "outputs": [],
   "source": [
    "#初始化原始数据的熵\n",
    "#以上步骤主要是函数的封装，下面正式进入信息增益的计算\n",
    "init_ent = ent(data)"
   ]
  },
  {
   "cell_type": "code",
   "execution_count": 16,
   "id": "cf63ffb3",
   "metadata": {},
   "outputs": [],
   "source": [
    "#选定要计算的特征\n",
    "#这里选择第1列特征\n",
    "feature_rank = 0"
   ]
  },
  {
   "cell_type": "code",
   "execution_count": 17,
   "id": "d3b24c4b",
   "metadata": {},
   "outputs": [],
   "source": [
    "#分割数据\n",
    "data_group=split(data,feature_rank)"
   ]
  },
  {
   "cell_type": "code",
   "execution_count": 18,
   "id": "fc6b1278",
   "metadata": {},
   "outputs": [],
   "source": [
    "#初始化将要计算的熵的值\n",
    "new_ent=0"
   ]
  },
  {
   "cell_type": "code",
   "execution_count": 20,
   "id": "73fe22a4",
   "metadata": {},
   "outputs": [],
   "source": [
    "#计算该特征的信息熵\n",
    "for key in data_group:\n",
    "    prob = len(data_group[key])/len(data)\n",
    "    new_ent += prob*ent(data_group[key])"
   ]
  },
  {
   "cell_type": "code",
   "execution_count": 21,
   "id": "443751f2",
   "metadata": {},
   "outputs": [
    {
     "data": {
      "text/plain": [
       "0.3219280948873623"
      ]
     },
     "execution_count": 21,
     "metadata": {},
     "output_type": "execute_result"
    }
   ],
   "source": [
    "#得到信息增益\n",
    "info_gain=init_ent-new_ent\n",
    "info_gain"
   ]
  },
  {
   "cell_type": "code",
   "execution_count": null,
   "id": "8705efe2",
   "metadata": {},
   "outputs": [],
   "source": []
  }
 ],
 "metadata": {
  "kernelspec": {
   "display_name": "Python 3 (ipykernel)",
   "language": "python",
   "name": "python3"
  },
  "language_info": {
   "codemirror_mode": {
    "name": "ipython",
    "version": 3
   },
   "file_extension": ".py",
   "mimetype": "text/x-python",
   "name": "python",
   "nbconvert_exporter": "python",
   "pygments_lexer": "ipython3",
   "version": "3.9.13"
  }
 },
 "nbformat": 4,
 "nbformat_minor": 5
}
