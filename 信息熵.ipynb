{
 "cells": [
  {
   "cell_type": "code",
   "execution_count": 1,
   "id": "d7a58b70",
   "metadata": {},
   "outputs": [],
   "source": [
    "#导入相关数据\n",
    "import numpy as np\n",
    "import pandas as pd"
   ]
  },
  {
   "cell_type": "code",
   "execution_count": 4,
   "id": "da5a6b41",
   "metadata": {},
   "outputs": [],
   "source": [
    "#导入具体数据\n",
    "data = [\n",
    "    [1,0,0,'打球'],\n",
    "    [1,0,1,'打球'],\n",
    "    [0,1,1,'打球'],\n",
    "    [0,0,1,'不打球'],\n",
    "    [1,1,1,'打球']\n",
    "]"
   ]
  },
  {
   "cell_type": "code",
   "execution_count": 3,
   "id": "378d8d44",
   "metadata": {},
   "outputs": [],
   "source": [
    "#将数据转换为数据框\n",
    "df = pd.DataFrame(data)"
   ]
  },
  {
   "cell_type": "code",
   "execution_count": 5,
   "id": "855560cf",
   "metadata": {},
   "outputs": [
    {
     "data": {
      "text/plain": [
       "5"
      ]
     },
     "execution_count": 5,
     "metadata": {},
     "output_type": "execute_result"
    }
   ],
   "source": [
    "#查看数据的长度\n",
    "data_length=len(data)\n",
    "data_length"
   ]
  },
  {
   "cell_type": "code",
   "execution_count": 6,
   "id": "2c1769a8",
   "metadata": {},
   "outputs": [],
   "source": [
    "#提取目标变量\n",
    "target = df.iloc[:,-1]"
   ]
  },
  {
   "cell_type": "code",
   "execution_count": 7,
   "id": "9612760e",
   "metadata": {},
   "outputs": [
    {
     "data": {
      "text/plain": [
       "打球     4\n",
       "不打球    1\n",
       "Name: 3, dtype: int64"
      ]
     },
     "execution_count": 7,
     "metadata": {},
     "output_type": "execute_result"
    }
   ],
   "source": [
    "#计算目标变量各个类型的数量\n",
    "label_counts = target.value_counts()\n",
    "label_counts"
   ]
  },
  {
   "cell_type": "code",
   "execution_count": 8,
   "id": "adf0d2e1",
   "metadata": {},
   "outputs": [
    {
     "data": {
      "text/plain": [
       "{'打球': 4, '不打球': 1}"
      ]
     },
     "execution_count": 8,
     "metadata": {},
     "output_type": "execute_result"
    }
   ],
   "source": [
    "#将列表转换为字典的格式\n",
    "label_dict = label_counts.to_dict()\n",
    "label_dict"
   ]
  },
  {
   "cell_type": "code",
   "execution_count": 9,
   "id": "6fb9714a",
   "metadata": {},
   "outputs": [],
   "source": [
    "#初始化熵的值\n",
    "entropy=0"
   ]
  },
  {
   "cell_type": "code",
   "execution_count": 10,
   "id": "228d3365",
   "metadata": {},
   "outputs": [],
   "source": [
    "#计算熵\n",
    "for key in label_dict:\n",
    "    prob=float(label_dict[key])/data_length\n",
    "    entropy -= prob*np.log2(prob)"
   ]
  },
  {
   "cell_type": "code",
   "execution_count": 11,
   "id": "dd89cd3a",
   "metadata": {},
   "outputs": [
    {
     "data": {
      "text/plain": [
       "0.7219280948873623"
      ]
     },
     "execution_count": 11,
     "metadata": {},
     "output_type": "execute_result"
    }
   ],
   "source": [
    "#查看结果\n",
    "entropy"
   ]
  },
  {
   "cell_type": "code",
   "execution_count": null,
   "id": "342b4ec0",
   "metadata": {},
   "outputs": [],
   "source": []
  }
 ],
 "metadata": {
  "kernelspec": {
   "display_name": "Python 3 (ipykernel)",
   "language": "python",
   "name": "python3"
  },
  "language_info": {
   "codemirror_mode": {
    "name": "ipython",
    "version": 3
   },
   "file_extension": ".py",
   "mimetype": "text/x-python",
   "name": "python",
   "nbconvert_exporter": "python",
   "pygments_lexer": "ipython3",
   "version": "3.9.13"
  }
 },
 "nbformat": 4,
 "nbformat_minor": 5
}
